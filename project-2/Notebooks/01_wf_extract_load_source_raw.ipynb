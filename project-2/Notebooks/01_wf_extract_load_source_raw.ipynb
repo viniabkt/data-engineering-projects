{
 "cells": [
  {
   "cell_type": "markdown",
   "metadata": {},
   "source": [
    "1 - IMPORT MAIN LIBRARIES AND CREATE GLOBAL VARIABLES"
   ]
  },
  {
   "cell_type": "code",
   "execution_count": 1,
   "metadata": {},
   "outputs": [],
   "source": [
    "import pandas as pd\n",
    "import os\n",
    "import requests\n",
    "\n",
    "source_path = '..\\\\Source\\\\'\n",
    "raw_path = '..\\\\Raw\\\\'\n",
    "api_url = 'https://olinda.bcb.gov.br/olinda/servico/Informes_ListaTarifasPorInstituicaoFinanceira/versao/v1/odata/ListaTarifasPorInstituicaoFinanceira(PessoaFisicaOuJuridica=@PessoaFisicaOuJuridica,CNPJ=@CNPJ)?%40PessoaFisicaOuJuridica=%27J%27&%40CNPJ=%27REPLACECNPJ%27'"
   ]
  },
  {
   "cell_type": "markdown",
   "metadata": {},
   "source": [
    "2 - EXTRACT AND LOAD CSV DATA - RAW LAYER"
   ]
  },
  {
   "cell_type": "code",
   "execution_count": 2,
   "metadata": {},
   "outputs": [
    {
     "name": "stdout",
     "output_type": "stream",
     "text": [
      "<class 'pandas.core.frame.DataFrame'>\n",
      "Int64Index: 892 entries, 0 to 134\n",
      "Data columns (total 15 columns):\n",
      " #   Column                                           Non-Null Count  Dtype  \n",
      "---  ------                                           --------------  -----  \n",
      " 0   Ano                                              892 non-null    int64  \n",
      " 1   Trimestre                                        892 non-null    object \n",
      " 2   Categoria                                        892 non-null    object \n",
      " 3   Tipo                                             892 non-null    object \n",
      " 4   CNPJ IF                                          892 non-null    object \n",
      " 5   Instituição financeira                           892 non-null    object \n",
      " 6   Índice                                           892 non-null    object \n",
      " 7   Quantidade de reclamações reguladas procedentes  892 non-null    int64  \n",
      " 8   Quantidade de reclamações reguladas - outras     892 non-null    int64  \n",
      " 9   Quantidade de reclamações não reguladas          892 non-null    int64  \n",
      " 10  Quantidade total de reclamações                  892 non-null    int64  \n",
      " 11  Quantidade total de clientes – CCS e SCR         892 non-null    object \n",
      " 12  Quantidade de clientes – CCS                     892 non-null    object \n",
      " 13  Quantidade de clientes – SCR                     892 non-null    object \n",
      " 14  Unnamed: 14                                      0 non-null      float64\n",
      "dtypes: float64(1), int64(5), object(9)\n",
      "memory usage: 111.5+ KB\n"
     ]
    }
   ],
   "source": [
    "# Get complete path for all CSV files in \"source\" directory\n",
    "filepaths = [source_path + file for file in os.listdir(source_path) if file.endswith('.csv')]\n",
    "\n",
    "# Concat multiple CSV files in one data frame\n",
    "df_raw_banks = pd.concat([pd.read_csv(filepath, delimiter=';', encoding='cp1252') for filepath in filepaths])\n",
    "df_raw_banks.info()\n",
    "\n",
    "# Load combined CSV to raw folder\n",
    "df_raw_banks.to_csv(raw_path + 'banks_raw_data.csv', sep=',', encoding='cp1252')"
   ]
  },
  {
   "cell_type": "markdown",
   "metadata": {},
   "source": [
    "3 - EXTRACT AND LOAD API DATA - RAW LAYER"
   ]
  },
  {
   "cell_type": "code",
   "execution_count": 4,
   "metadata": {},
   "outputs": [
    {
     "name": "stdout",
     "output_type": "stream",
     "text": [
      "<class 'pandas.core.frame.DataFrame'>\n",
      "Int64Index: 9744 entries, 0 to 15\n",
      "Data columns (total 8 columns):\n",
      " #   Column         Non-Null Count  Dtype  \n",
      "---  ------         --------------  -----  \n",
      " 0   CodigoServico  9744 non-null   object \n",
      " 1   Servico        9744 non-null   object \n",
      " 2   Unidade        9744 non-null   object \n",
      " 3   DataVigencia   9744 non-null   object \n",
      " 4   ValorMaximo    9744 non-null   float64\n",
      " 5   TipoValor      9744 non-null   object \n",
      " 6   Periodicidade  9744 non-null   object \n",
      " 7   CNPJ           9744 non-null   object \n",
      "dtypes: float64(1), object(7)\n",
      "memory usage: 685.1+ KB\n"
     ]
    }
   ],
   "source": [
    "# Execute API for each bank extracted\n",
    "responseList = []\n",
    "bankList = df_raw_banks[df_raw_banks['CNPJ IF'].str.strip() != '']\n",
    "\n",
    "for cnpj in bankList['CNPJ IF']:\n",
    "    response = requests.get(api_url.replace('REPLACECNPJ', cnpj))\n",
    "    json = response.json()\n",
    "    df_response = pd.DataFrame(json['value'])\n",
    "    df_response['CNPJ'] = cnpj\n",
    "    responseList.append(df_response)\n",
    "\n",
    "df_raw_taxes = pd.concat(bank_taxes for bank_taxes in responseList)\n",
    "df_raw_taxes.to_csv(raw_path + 'taxes_raw_data.csv', sep=',', encoding='cp1252')\n",
    "df_raw_taxes.info()"
   ]
  }
 ],
 "metadata": {
  "kernelspec": {
   "display_name": "Python 3.8.8 ('base')",
   "language": "python",
   "name": "python3"
  },
  "language_info": {
   "codemirror_mode": {
    "name": "ipython",
    "version": 3
   },
   "file_extension": ".py",
   "mimetype": "text/x-python",
   "name": "python",
   "nbconvert_exporter": "python",
   "pygments_lexer": "ipython3",
   "version": "3.8.8"
  },
  "orig_nbformat": 4,
  "vscode": {
   "interpreter": {
    "hash": "ad2bdc8ecc057115af97d19610ffacc2b4e99fae6737bb82f5d7fb13d2f2c186"
   }
  }
 },
 "nbformat": 4,
 "nbformat_minor": 2
}
