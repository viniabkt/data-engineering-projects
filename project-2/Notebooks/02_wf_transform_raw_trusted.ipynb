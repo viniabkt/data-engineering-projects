{
 "cells": [
  {
   "cell_type": "markdown",
   "metadata": {},
   "source": [
    "1 - IMPORT MAIN LIBRARIES AND CREATE GLOBAL VARIABLES"
   ]
  },
  {
   "cell_type": "code",
   "execution_count": 59,
   "metadata": {},
   "outputs": [],
   "source": [
    "import pandas as pd\n",
    "from datetime import datetime\n",
    "import unicodedata\n",
    "\n",
    "raw_path = '..\\\\Raw\\\\'\n",
    "trusted_path = '..\\\\Trusted\\\\'"
   ]
  },
  {
   "cell_type": "markdown",
   "metadata": {},
   "source": [
    "2.0 - Transform Bank Data -> Dataset Counts"
   ]
  },
  {
   "cell_type": "code",
   "execution_count": 29,
   "metadata": {},
   "outputs": [
    {
     "data": {
      "text/plain": [
       "Unnamed: 0                                         892\n",
       "Ano                                                892\n",
       "Trimestre                                          892\n",
       "Categoria                                          892\n",
       "Tipo                                               892\n",
       "CNPJ IF                                            892\n",
       "Instituição financeira                             892\n",
       "Índice                                             892\n",
       "Quantidade de reclamações reguladas procedentes    892\n",
       "Quantidade de reclamações reguladas - outras       892\n",
       "Quantidade de reclamações não reguladas            892\n",
       "Quantidade total de reclamações                    892\n",
       "Quantidade total de clientes – CCS e SCR           892\n",
       "Quantidade de clientes – CCS                       892\n",
       "Quantidade de clientes – SCR                       892\n",
       "Unnamed: 14                                          0\n",
       "dtype: int64"
      ]
     },
     "execution_count": 29,
     "metadata": {},
     "output_type": "execute_result"
    }
   ],
   "source": [
    "# Get banks raw CSV data\n",
    "df_trusted_banks = pd.read_csv(raw_path + 'banks_raw_data.csv', encoding='cp1252')\n",
    "df_trusted_banks.count()"
   ]
  },
  {
   "cell_type": "markdown",
   "metadata": {},
   "source": [
    "2.1 - Transform Bank Data -> Fix Columns"
   ]
  },
  {
   "cell_type": "code",
   "execution_count": 30,
   "metadata": {},
   "outputs": [
    {
     "data": {
      "text/plain": [
       "Index(['id', 'Ano', 'Trimestre', 'Categoria', 'Tipo', 'CNPJ IF',\n",
       "       'Instituição financeira', 'Índice',\n",
       "       'Quantidade de reclamações reguladas procedentes',\n",
       "       'Quantidade de reclamações reguladas - outras',\n",
       "       'Quantidade de reclamações não reguladas',\n",
       "       'Quantidade total de reclamações',\n",
       "       'Quantidade total de clientes – CCS e SCR',\n",
       "       'Quantidade de clientes – CCS', 'Quantidade de clientes – SCR'],\n",
       "      dtype='object')"
      ]
     },
     "execution_count": 30,
     "metadata": {},
     "output_type": "execute_result"
    }
   ],
   "source": [
    "# Drop blank column and rename unnamed column\n",
    "df_trusted_banks.drop(df_trusted_banks.columns[15], axis=1, inplace=True)\n",
    "df_trusted_banks.rename(columns={'Unnamed: 0': 'id'}, inplace=True)\n",
    "df_trusted_banks.keys()"
   ]
  },
  {
   "cell_type": "markdown",
   "metadata": {},
   "source": [
    "2.2 - Transform Bank Data -> Data Types"
   ]
  },
  {
   "cell_type": "code",
   "execution_count": 49,
   "metadata": {},
   "outputs": [
    {
     "name": "stdout",
     "output_type": "stream",
     "text": [
      "<class 'pandas.core.frame.DataFrame'>\n",
      "RangeIndex: 892 entries, 0 to 891\n",
      "Data columns (total 15 columns):\n",
      " #   Column                                           Non-Null Count  Dtype \n",
      "---  ------                                           --------------  ----- \n",
      " 0   id                                               892 non-null    int32 \n",
      " 1   Ano                                              892 non-null    int32 \n",
      " 2   Trimestre                                        892 non-null    object\n",
      " 3   Categoria                                        892 non-null    object\n",
      " 4   Tipo                                             892 non-null    object\n",
      " 5   CNPJ IF                                          892 non-null    object\n",
      " 6   Instituição financeira                           892 non-null    object\n",
      " 7   Índice                                           892 non-null    object\n",
      " 8   Quantidade de reclamações reguladas procedentes  892 non-null    int32 \n",
      " 9   Quantidade de reclamações reguladas - outras     892 non-null    int32 \n",
      " 10  Quantidade de reclamações não reguladas          892 non-null    int32 \n",
      " 11  Quantidade total de reclamações                  892 non-null    int32 \n",
      " 12  Quantidade total de clientes – CCS e SCR         892 non-null    int32 \n",
      " 13  Quantidade de clientes – CCS                     892 non-null    int32 \n",
      " 14  Quantidade de clientes – SCR                     892 non-null    int32 \n",
      "dtypes: int32(9), object(6)\n",
      "memory usage: 73.3+ KB\n"
     ]
    }
   ],
   "source": [
    "# Remove blank strings and convert numeric values\n",
    "df_trusted_banks = df_trusted_banks.astype(str)\n",
    "df_trusted_banks[\"Índice\"] = df_trusted_banks[\"Índice\"].str.strip().replace('', None)\n",
    "df_trusted_banks[\"Quantidade de reclamações reguladas procedentes\"] = df_trusted_banks[\"Quantidade de reclamações reguladas procedentes\"].str.strip().replace('', None)\n",
    "df_trusted_banks[\"Quantidade de reclamações reguladas - outras\"] = df_trusted_banks[\"Quantidade de reclamações reguladas - outras\"].str.strip().replace('', None)\n",
    "df_trusted_banks[\"Quantidade de reclamações não reguladas\"] = df_trusted_banks[\"Quantidade de reclamações não reguladas\"].str.strip().replace('', None)\n",
    "df_trusted_banks[\"Quantidade total de reclamações\"] = df_trusted_banks[\"Quantidade total de reclamações\"].str.strip().replace('', None)\n",
    "df_trusted_banks[\"Quantidade total de clientes – CCS e SCR\"] = df_trusted_banks[\"Quantidade total de clientes – CCS e SCR\"].str.strip().replace('', None)\n",
    "df_trusted_banks[\"Quantidade de clientes – CCS\"] = df_trusted_banks[\"Quantidade de clientes – CCS\"].str.strip().replace('', None)\n",
    "df_trusted_banks[\"Quantidade de clientes – SCR\"] = df_trusted_banks[\"Quantidade de clientes – SCR\"].str.strip().replace('', None)\n",
    "\n",
    "df_trusted_banks = df_trusted_banks.astype({\n",
    "    'id': int,\n",
    "    'Ano': int,\n",
    "    'Trimestre': str,\n",
    "    'Categoria': str,\n",
    "    'Tipo': str,\n",
    "    'CNPJ IF': str,\n",
    "    'Instituição financeira': str,\n",
    "    'Índice': str,\n",
    "    'Quantidade de reclamações reguladas procedentes': int,\n",
    "    'Quantidade de reclamações reguladas - outras': int,\n",
    "    'Quantidade de reclamações não reguladas': int,\n",
    "    'Quantidade total de reclamações': int,\n",
    "    'Quantidade total de clientes – CCS e SCR': int,\n",
    "    'Quantidade de clientes – CCS': int, \n",
    "    'Quantidade de clientes – SCR': int\n",
    "})\n",
    "\n",
    "df_trusted_banks.info()     "
   ]
  },
  {
   "cell_type": "markdown",
   "metadata": {},
   "source": [
    "2.3 - Transform Bank Data -> Load to trusted"
   ]
  },
  {
   "cell_type": "code",
   "execution_count": 51,
   "metadata": {},
   "outputs": [],
   "source": [
    "# Load data to trusted path\n",
    "df_trusted_banks.to_csv(trusted_path + 'banks.csv', encoding='cp1252')"
   ]
  },
  {
   "cell_type": "markdown",
   "metadata": {},
   "source": [
    "3.0 - Transform Taxes Data -> Dataset Counts"
   ]
  },
  {
   "cell_type": "code",
   "execution_count": 72,
   "metadata": {},
   "outputs": [
    {
     "data": {
      "text/plain": [
       "Unnamed: 0       9744\n",
       "CodigoServico    9744\n",
       "Servico          9744\n",
       "Unidade          9744\n",
       "DataVigencia     9744\n",
       "ValorMaximo      9744\n",
       "TipoValor        9744\n",
       "Periodicidade    9744\n",
       "CNPJ             9744\n",
       "dtype: int64"
      ]
     },
     "execution_count": 72,
     "metadata": {},
     "output_type": "execute_result"
    }
   ],
   "source": [
    "# Get taxes raw CSV data\n",
    "df_trusted_taxes = pd.read_csv(raw_path + 'taxes_raw_data.csv', encoding='cp1252')\n",
    "df_trusted_taxes.count()"
   ]
  },
  {
   "cell_type": "markdown",
   "metadata": {},
   "source": [
    "3.1 - Transform Taxes Data -> Fix Columns"
   ]
  },
  {
   "cell_type": "code",
   "execution_count": 73,
   "metadata": {},
   "outputs": [
    {
     "data": {
      "text/plain": [
       "Index(['id', 'CodigoServico', 'Servico', 'Unidade', 'DataVigencia',\n",
       "       'ValorMaximo', 'TipoValor', 'Periodicidade', 'CNPJ'],\n",
       "      dtype='object')"
      ]
     },
     "execution_count": 73,
     "metadata": {},
     "output_type": "execute_result"
    }
   ],
   "source": [
    "# Rename unnamed column \n",
    "df_trusted_taxes.rename(columns={'Unnamed: 0': 'id'}, inplace=True)\n",
    "df_trusted_taxes.keys()"
   ]
  },
  {
   "cell_type": "markdown",
   "metadata": {},
   "source": [
    "3.2 - Transform Taxes Data -> Data Types"
   ]
  },
  {
   "cell_type": "code",
   "execution_count": 79,
   "metadata": {},
   "outputs": [
    {
     "name": "stdout",
     "output_type": "stream",
     "text": [
      "<class 'pandas.core.frame.DataFrame'>\n",
      "RangeIndex: 9744 entries, 0 to 9743\n",
      "Data columns (total 9 columns):\n",
      " #   Column         Non-Null Count  Dtype  \n",
      "---  ------         --------------  -----  \n",
      " 0   id             9744 non-null   int32  \n",
      " 1   CodigoServico  9744 non-null   int32  \n",
      " 2   Servico        9744 non-null   object \n",
      " 3   Unidade        9744 non-null   object \n",
      " 4   DataVigencia   9744 non-null   object \n",
      " 5   ValorMaximo    9744 non-null   float64\n",
      " 6   TipoValor      9744 non-null   object \n",
      " 7   Periodicidade  9744 non-null   object \n",
      " 8   CNPJ           9744 non-null   object \n",
      "dtypes: float64(1), int32(2), object(6)\n",
      "memory usage: 609.1+ KB\n"
     ]
    }
   ],
   "source": [
    "# Fix encoding and data ypes\n",
    "df_trusted_taxes = df_trusted_taxes.astype(str)\n",
    "df_trusted_taxes['Unidade'] = df_trusted_taxes['Unidade'].str.normalize('NFKD').str.encode('ascii','ignore').str.decode('ascii','ignore').str.lower()\n",
    "\n",
    "df_trusted_taxes = df_trusted_taxes.astype({\n",
    "    'id': int,\n",
    "    'CodigoServico': int,\n",
    "    'Servico': str,\n",
    "    'Unidade': str,\n",
    "    'DataVigencia': str,\n",
    "    'ValorMaximo': float,\n",
    "    'TipoValor': str,\n",
    "    'Periodicidade': str,\n",
    "    'CNPJ': str\n",
    "})\n",
    "df_trusted_taxes.info()"
   ]
  },
  {
   "cell_type": "markdown",
   "metadata": {},
   "source": [
    "3.3 - Transform Taxes Data -> Load to trusted"
   ]
  },
  {
   "cell_type": "code",
   "execution_count": 80,
   "metadata": {},
   "outputs": [],
   "source": [
    "# Load data to trusted path\n",
    "df_trusted_taxes.to_csv(trusted_path + 'taxes.csv', encoding='cp1252')"
   ]
  }
 ],
 "metadata": {
  "kernelspec": {
   "display_name": "Python 3.8.8 ('base')",
   "language": "python",
   "name": "python3"
  },
  "language_info": {
   "codemirror_mode": {
    "name": "ipython",
    "version": 3
   },
   "file_extension": ".py",
   "mimetype": "text/x-python",
   "name": "python",
   "nbconvert_exporter": "python",
   "pygments_lexer": "ipython3",
   "version": "3.8.8"
  },
  "orig_nbformat": 4,
  "vscode": {
   "interpreter": {
    "hash": "ad2bdc8ecc057115af97d19610ffacc2b4e99fae6737bb82f5d7fb13d2f2c186"
   }
  }
 },
 "nbformat": 4,
 "nbformat_minor": 2
}
